{
  "cells": [
    {
      "cell_type": "markdown",
      "metadata": {
        "id": "view-in-github",
        "colab_type": "text"
      },
      "source": [
        "<a href=\"https://colab.research.google.com/github/pranathi5622/Superhero-Name-Generator/blob/main/Superhero_Name_Generator_.ipynb\" target=\"_parent\"><img src=\"https://colab.research.google.com/assets/colab-badge.svg\" alt=\"Open In Colab\"/></a>"
      ]
    },
    {
      "cell_type": "markdown",
      "metadata": {
        "id": "21XXWP7Fpt2L"
      },
      "source": [
        "# Superhero (and Supervillain) Name Generator\n",
        "\n",
        "---\n",
        "\n",
        "[Superhero Names Dataset](https://github.com/am1tyadav/superhero)"
      ]
    },
    {
      "cell_type": "markdown",
      "metadata": {
        "id": "H6P0NU5Cpt2R"
      },
      "source": [
        "## Task 2\n",
        "\n",
        "1. Import the data\n",
        "2. Create a tokenizer\n",
        "3. Char to index and Index to char dictionaries"
      ]
    },
    {
      "cell_type": "code",
      "execution_count": null,
      "metadata": {
        "id": "srULhalZpt2M",
        "colab": {
          "base_uri": "https://localhost:8080/"
        },
        "outputId": "29b4ce46-84f3-4cae-b272-b1ecbcb15c41"
      },
      "outputs": [
        {
          "output_type": "stream",
          "name": "stdout",
          "text": [
            "Cloning into 'superhero'...\n",
            "remote: Enumerating objects: 8, done.\u001b[K\n",
            "remote: Counting objects: 100% (8/8), done.\u001b[K\n",
            "remote: Compressing objects: 100% (7/7), done.\u001b[K\n",
            "remote: Total 8 (delta 0), reused 4 (delta 0), pack-reused 0\u001b[K\n",
            "Receiving objects: 100% (8/8), 47.08 KiB | 1.68 MiB/s, done.\n"
          ]
        }
      ],
      "source": [
        "!git clone https://github.com/am1tyadav/superhero"
      ]
    },
    {
      "cell_type": "code",
      "execution_count": null,
      "metadata": {
        "id": "uq4CLmsLpt2P",
        "colab": {
          "base_uri": "https://localhost:8080/",
          "height": 36
        },
        "outputId": "a4a340a7-f4a4-480c-a9b5-481c4ae50ee4"
      },
      "outputs": [
        {
          "output_type": "execute_result",
          "data": {
            "text/plain": [
              "'jumpa\\t\\ndoctor fate\\t\\nstarlight\\t\\nisildur\\t\\nlasher\\t\\nvarvara\\t\\nthe target\\t\\naxel\\t\\nbattra\\t\\nchangeling\\t\\npyrrh'"
            ],
            "application/vnd.google.colaboratory.intrinsic+json": {
              "type": "string"
            }
          },
          "metadata": {},
          "execution_count": 2
        }
      ],
      "source": [
        "with open('superhero/superheroes.txt','r') as f:\n",
        "  data=f.read()\n",
        "data[:100]"
      ]
    },
    {
      "cell_type": "code",
      "execution_count": null,
      "metadata": {
        "id": "JqhtLuAHpt2R",
        "colab": {
          "base_uri": "https://localhost:8080/"
        },
        "outputId": "99eee9a4-362b-4896-cc8f-754da0136b4f"
      },
      "outputs": [
        {
          "output_type": "stream",
          "name": "stdout",
          "text": [
            "2.15.0\n"
          ]
        }
      ],
      "source": [
        "import tensorflow as tf\n",
        "print(tf.__version__)"
      ]
    },
    {
      "cell_type": "code",
      "execution_count": null,
      "metadata": {
        "id": "95Lo1Yqzpt2T"
      },
      "outputs": [],
      "source": [
        "tokenizer = tf.keras.preprocessing.text.Tokenizer(\n",
        "    filters='!\"#$%&()*+,-./:;<=>?@[\\\\]^_`{|}~',\n",
        "    split='\\n',\n",
        ")"
      ]
    },
    {
      "cell_type": "code",
      "execution_count": null,
      "metadata": {
        "id": "qYfC4sj2pt2V"
      },
      "outputs": [],
      "source": [
        "tokenizer.fit_on_texts(data)"
      ]
    },
    {
      "cell_type": "code",
      "execution_count": null,
      "metadata": {
        "id": "EO4-dPM6pt2X",
        "colab": {
          "base_uri": "https://localhost:8080/"
        },
        "outputId": "65dc245b-8b29-45f3-d398-790b337a5cda"
      },
      "outputs": [
        {
          "output_type": "stream",
          "name": "stdout",
          "text": [
            "{1: '\\t', 2: 'a', 3: 'e', 4: 'r', 5: 'o', 6: 'n', 7: 'i', 8: ' ', 9: 't', 10: 's', 11: 'l', 12: 'm', 13: 'h', 14: 'd', 15: 'c', 16: 'u', 17: 'g', 18: 'k', 19: 'b', 20: 'p', 21: 'y', 22: 'w', 23: 'f', 24: 'v', 25: 'j', 26: 'z', 27: 'x', 28: 'q'}\n"
          ]
        }
      ],
      "source": [
        "char_to_index = tokenizer.word_index\n",
        "index_to_char = dict((v,k) for k,v in char_to_index.items())\n",
        "print(index_to_char)"
      ]
    },
    {
      "cell_type": "markdown",
      "metadata": {
        "id": "SMwtIw_Bpt2Z"
      },
      "source": [
        "## Task 3\n",
        "\n",
        "1. Converting between names and sequences"
      ]
    },
    {
      "cell_type": "code",
      "execution_count": null,
      "metadata": {
        "id": "N7iQLIXzpt2a",
        "colab": {
          "base_uri": "https://localhost:8080/"
        },
        "outputId": "9e0fffe6-ac30-4ad8-cd56-e509b68c5d45"
      },
      "outputs": [
        {
          "output_type": "execute_result",
          "data": {
            "text/plain": [
              "['jumpa\\t',\n",
              " 'doctor fate\\t',\n",
              " 'starlight\\t',\n",
              " 'isildur\\t',\n",
              " 'lasher\\t',\n",
              " 'varvara\\t',\n",
              " 'the target\\t',\n",
              " 'axel\\t',\n",
              " 'battra\\t',\n",
              " 'changeling\\t',\n",
              " 'pyrrha\\t',\n",
              " 'the rhino\\t',\n",
              " 'major glory\\t',\n",
              " 'drago\\t',\n",
              " 'king vegeta\\t',\n",
              " 'phoebus apollo\\t',\n",
              " 'warpath\\t',\n",
              " 'the lost sapphire\\t',\n",
              " 'durok the demolisher\\t',\n",
              " 'cronos\\t']"
            ]
          },
          "metadata": {},
          "execution_count": 7
        }
      ],
      "source": [
        "names= data.splitlines()\n",
        "names[:20]"
      ]
    },
    {
      "cell_type": "code",
      "execution_count": null,
      "metadata": {
        "id": "n_-TTfqipt2c",
        "colab": {
          "base_uri": "https://localhost:8080/"
        },
        "outputId": "786d6b4b-287b-4943-e963-8196dd5a4442"
      },
      "outputs": [
        {
          "output_type": "execute_result",
          "data": {
            "text/plain": [
              "[[25], [16], [12], [20], [2], [1]]"
            ]
          },
          "metadata": {},
          "execution_count": 8
        }
      ],
      "source": [
        "tokenizer.texts_to_sequences(names[0])"
      ]
    },
    {
      "cell_type": "code",
      "execution_count": null,
      "metadata": {
        "id": "P6IsKH1Upt2e"
      },
      "outputs": [],
      "source": [
        "def name_to_seq(names):\n",
        "  return [tokenizer.texts_to_sequences(c)[0][0] for c in names]"
      ]
    },
    {
      "cell_type": "code",
      "execution_count": null,
      "metadata": {
        "id": "TuLUiMP3pt2g",
        "colab": {
          "base_uri": "https://localhost:8080/"
        },
        "outputId": "1ad1cb0d-4029-469d-f25a-5fab25b900c5"
      },
      "outputs": [
        {
          "output_type": "execute_result",
          "data": {
            "text/plain": [
              "[25, 16, 12, 20, 2, 1]"
            ]
          },
          "metadata": {},
          "execution_count": 10
        }
      ],
      "source": [
        "name_to_seq(names[0])"
      ]
    },
    {
      "cell_type": "code",
      "execution_count": null,
      "metadata": {
        "id": "yFUYhimKpt2h"
      },
      "outputs": [],
      "source": [
        "def seq_to_name(seq):\n",
        "  return ''.join([index_to_char[i] for i in seq if i!=0])"
      ]
    },
    {
      "cell_type": "code",
      "execution_count": null,
      "metadata": {
        "id": "ROhCqmhLpt2k",
        "colab": {
          "base_uri": "https://localhost:8080/",
          "height": 36
        },
        "outputId": "27b3dcb5-64c9-425d-edb5-0344533c2af1"
      },
      "outputs": [
        {
          "output_type": "execute_result",
          "data": {
            "text/plain": [
              "'jumpa\\t'"
            ],
            "application/vnd.google.colaboratory.intrinsic+json": {
              "type": "string"
            }
          },
          "metadata": {},
          "execution_count": 12
        }
      ],
      "source": [
        "seq_to_name(name_to_seq(names[0]))"
      ]
    },
    {
      "cell_type": "markdown",
      "metadata": {
        "id": "uCbAzsNjpt2m"
      },
      "source": [
        "## Task 4\n",
        "\n",
        "1. Creating sequences\n",
        "2. Padding all sequences"
      ]
    },
    {
      "cell_type": "code",
      "execution_count": null,
      "metadata": {
        "id": "zstNn-0dpt2m"
      },
      "outputs": [],
      "source": [
        "sequences = []\n",
        "for name in names:\n",
        "  seq=name_to_seq(name)\n",
        "  if len(seq)>=2:\n",
        "    sequences+= [seq[:i] for i in range(2,len(seq)+1)]"
      ]
    },
    {
      "cell_type": "code",
      "execution_count": null,
      "metadata": {
        "id": "BjRTMysvpt2o",
        "colab": {
          "base_uri": "https://localhost:8080/"
        },
        "outputId": "566fbbe7-6005-47a9-e840-ebbdcf44ff94"
      },
      "outputs": [
        {
          "output_type": "execute_result",
          "data": {
            "text/plain": [
              "[[25, 16],\n",
              " [25, 16, 12],\n",
              " [25, 16, 12, 20],\n",
              " [25, 16, 12, 20, 2],\n",
              " [25, 16, 12, 20, 2, 1],\n",
              " [14, 5],\n",
              " [14, 5, 15],\n",
              " [14, 5, 15, 9],\n",
              " [14, 5, 15, 9, 5],\n",
              " [14, 5, 15, 9, 5, 4]]"
            ]
          },
          "metadata": {},
          "execution_count": 14
        }
      ],
      "source": [
        "sequences[:10]"
      ]
    },
    {
      "cell_type": "code",
      "execution_count": null,
      "metadata": {
        "id": "SR68pu2tpt2q",
        "colab": {
          "base_uri": "https://localhost:8080/"
        },
        "outputId": "cbbc25a3-4b87-40ce-e336-0cc44439f0ff"
      },
      "outputs": [
        {
          "output_type": "stream",
          "name": "stdout",
          "text": [
            "33\n"
          ]
        }
      ],
      "source": [
        "max_len = max([len(x) for x in sequences])\n",
        "print(max_len)"
      ]
    },
    {
      "cell_type": "code",
      "execution_count": null,
      "metadata": {
        "id": "h_1BtWO7pt2r",
        "colab": {
          "base_uri": "https://localhost:8080/"
        },
        "outputId": "373168b9-53a0-4df0-d4b6-9d70f8bd076b"
      },
      "outputs": [
        {
          "output_type": "stream",
          "name": "stdout",
          "text": [
            "[ 0  0  0  0  0  0  0  0  0  0  0  0  0  0  0  0  0  0  0  0  0  0  0  0\n",
            "  0  0  0  0  0  0  0 25 16]\n"
          ]
        }
      ],
      "source": [
        "padded_sequence=tf.keras.preprocessing.sequence.pad_sequences(\n",
        "    sequences , padding='pre',\n",
        "    maxlen=max_len\n",
        ")\n",
        "print(padded_sequence[0])"
      ]
    },
    {
      "cell_type": "code",
      "execution_count": null,
      "metadata": {
        "id": "sPlrLRpSpt2t",
        "colab": {
          "base_uri": "https://localhost:8080/"
        },
        "outputId": "cf299ee6-dfd7-42d2-fe11-7abbd49af99b"
      },
      "outputs": [
        {
          "output_type": "execute_result",
          "data": {
            "text/plain": [
              "(88279, 33)"
            ]
          },
          "metadata": {},
          "execution_count": 17
        }
      ],
      "source": [
        "padded_sequence.shape"
      ]
    },
    {
      "cell_type": "markdown",
      "metadata": {
        "id": "mVY5uK0y-ft5"
      },
      "source": [
        "## Task 5: Creating Training and Validation Sets\n",
        "\n",
        "1. Creating training and validation sets"
      ]
    },
    {
      "cell_type": "code",
      "execution_count": null,
      "metadata": {
        "id": "BE4BIeSnpt2v",
        "colab": {
          "base_uri": "https://localhost:8080/"
        },
        "outputId": "4e0f443f-4082-4975-d6c2-ff1e662c7b8f"
      },
      "outputs": [
        {
          "output_type": "stream",
          "name": "stdout",
          "text": [
            "(88279, 32) (88279,)\n"
          ]
        }
      ],
      "source": [
        "x,y = padded_sequence[:,:-1], padded_sequence[:,-1]\n",
        "print(x.shape,y.shape)"
      ]
    },
    {
      "cell_type": "code",
      "execution_count": null,
      "metadata": {
        "id": "wVWfxNa1-ft6",
        "colab": {
          "base_uri": "https://localhost:8080/"
        },
        "outputId": "e3fd008a-d79f-40dd-cf64-372ab50ccbe9"
      },
      "outputs": [
        {
          "output_type": "stream",
          "name": "stdout",
          "text": [
            "(66209, 32) (66209,)\n",
            "(22070, 32) (22070,)\n"
          ]
        }
      ],
      "source": [
        "from sklearn.model_selection import train_test_split\n",
        "x_train, x_test, y_train, y_test= train_test_split(x,y)\n",
        "print(x_train.shape,y_train.shape)\n",
        "print(x_test.shape,y_test.shape)"
      ]
    },
    {
      "cell_type": "code",
      "execution_count": null,
      "metadata": {
        "id": "cgqRZtqnpt2x",
        "colab": {
          "base_uri": "https://localhost:8080/"
        },
        "outputId": "c69af25c-3940-491d-d8ac-04f3f62523f8"
      },
      "outputs": [
        {
          "output_type": "stream",
          "name": "stdout",
          "text": [
            "29\n"
          ]
        }
      ],
      "source": [
        "num_chars= len(char_to_index.keys())+1\n",
        "print(num_chars)"
      ]
    },
    {
      "cell_type": "markdown",
      "metadata": {
        "id": "P5MggmdI-ft6"
      },
      "source": [
        "## Task 6: Creating the Model"
      ]
    },
    {
      "cell_type": "code",
      "execution_count": null,
      "metadata": {
        "id": "zaVDxJaS-ft6",
        "colab": {
          "base_uri": "https://localhost:8080/"
        },
        "outputId": "40aab5ad-0834-414a-e527-52811fd9335b"
      },
      "outputs": [
        {
          "output_type": "stream",
          "name": "stdout",
          "text": [
            "Model: \"sequential\"\n",
            "_________________________________________________________________\n",
            " Layer (type)                Output Shape              Param #   \n",
            "=================================================================\n",
            " embedding (Embedding)       (None, 32, 8)             232       \n",
            "                                                                 \n",
            " conv1d (Conv1D)             (None, 32, 64)            2624      \n",
            "                                                                 \n",
            " max_pooling1d (MaxPooling1  (None, 16, 64)            0         \n",
            " D)                                                              \n",
            "                                                                 \n",
            " lstm (LSTM)                 (None, 32)                12416     \n",
            "                                                                 \n",
            " dense (Dense)               (None, 29)                957       \n",
            "                                                                 \n",
            "=================================================================\n",
            "Total params: 16229 (63.39 KB)\n",
            "Trainable params: 16229 (63.39 KB)\n",
            "Non-trainable params: 0 (0.00 Byte)\n",
            "_________________________________________________________________\n"
          ]
        }
      ],
      "source": [
        "from tensorflow.keras.models import Sequential\n",
        "from tensorflow.keras.layers import Embedding , Conv1D , MaxPool1D , LSTM\n",
        "from tensorflow.keras.layers import Bidirectional , Dense\n",
        "\n",
        "model = Sequential([\n",
        "    Embedding(num_chars, 8, input_length=max_len-1),\n",
        "    Conv1D(64,5,strides=1, activation='tanh', padding='causal'),\n",
        "    MaxPool1D(2),\n",
        "    LSTM(32),\n",
        "    Dense(num_chars, activation='softmax')\n",
        "                    ])\n",
        "\n",
        "model.compile(\n",
        "    loss='sparse_categorical_crossentropy',\n",
        "    optimizer='adam',\n",
        "    metrics=['accuracy']\n",
        ")\n",
        "model.summary()\n"
      ]
    },
    {
      "cell_type": "markdown",
      "metadata": {
        "id": "fbO8amT_-ft7"
      },
      "source": [
        "## Task 7: Training the Model"
      ]
    },
    {
      "cell_type": "code",
      "execution_count": null,
      "metadata": {
        "id": "j0Ssl4qupt22",
        "colab": {
          "base_uri": "https://localhost:8080/"
        },
        "outputId": "91733837-cb55-4cae-cae8-47c13a83ac52"
      },
      "outputs": [
        {
          "output_type": "stream",
          "name": "stdout",
          "text": [
            "Epoch 1/50\n",
            "2070/2070 - 21s - loss: 2.7423 - accuracy: 0.1907 - val_loss: 2.5637 - val_accuracy: 0.2271 - 21s/epoch - 10ms/step\n",
            "Epoch 2/50\n",
            "2070/2070 - 13s - loss: 2.5317 - accuracy: 0.2389 - val_loss: 2.4888 - val_accuracy: 0.2476 - 13s/epoch - 6ms/step\n",
            "Epoch 3/50\n",
            "2070/2070 - 12s - loss: 2.4646 - accuracy: 0.2590 - val_loss: 2.4399 - val_accuracy: 0.2664 - 12s/epoch - 6ms/step\n",
            "Epoch 4/50\n",
            "2070/2070 - 14s - loss: 2.4186 - accuracy: 0.2700 - val_loss: 2.4069 - val_accuracy: 0.2776 - 14s/epoch - 7ms/step\n",
            "Epoch 5/50\n",
            "2070/2070 - 13s - loss: 2.3833 - accuracy: 0.2782 - val_loss: 2.3747 - val_accuracy: 0.2796 - 13s/epoch - 6ms/step\n",
            "Epoch 6/50\n",
            "2070/2070 - 11s - loss: 2.3526 - accuracy: 0.2862 - val_loss: 2.3559 - val_accuracy: 0.2872 - 11s/epoch - 6ms/step\n",
            "Epoch 7/50\n",
            "2070/2070 - 12s - loss: 2.3255 - accuracy: 0.2953 - val_loss: 2.3429 - val_accuracy: 0.2948 - 12s/epoch - 6ms/step\n",
            "Epoch 8/50\n",
            "2070/2070 - 12s - loss: 2.3010 - accuracy: 0.3047 - val_loss: 2.3206 - val_accuracy: 0.2970 - 12s/epoch - 6ms/step\n",
            "Epoch 9/50\n",
            "2070/2070 - 12s - loss: 2.2794 - accuracy: 0.3110 - val_loss: 2.3063 - val_accuracy: 0.3027 - 12s/epoch - 6ms/step\n",
            "Epoch 10/50\n",
            "2070/2070 - 13s - loss: 2.2592 - accuracy: 0.3180 - val_loss: 2.2927 - val_accuracy: 0.3089 - 13s/epoch - 6ms/step\n",
            "Epoch 11/50\n",
            "2070/2070 - 13s - loss: 2.2396 - accuracy: 0.3256 - val_loss: 2.2812 - val_accuracy: 0.3163 - 13s/epoch - 6ms/step\n",
            "Epoch 12/50\n",
            "2070/2070 - 12s - loss: 2.2233 - accuracy: 0.3294 - val_loss: 2.2753 - val_accuracy: 0.3156 - 12s/epoch - 6ms/step\n",
            "Epoch 13/50\n",
            "2070/2070 - 13s - loss: 2.2080 - accuracy: 0.3358 - val_loss: 2.2643 - val_accuracy: 0.3211 - 13s/epoch - 6ms/step\n",
            "Epoch 14/50\n",
            "2070/2070 - 13s - loss: 2.1938 - accuracy: 0.3416 - val_loss: 2.2546 - val_accuracy: 0.3226 - 13s/epoch - 6ms/step\n",
            "Epoch 15/50\n",
            "2070/2070 - 13s - loss: 2.1794 - accuracy: 0.3454 - val_loss: 2.2488 - val_accuracy: 0.3273 - 13s/epoch - 6ms/step\n",
            "Epoch 16/50\n",
            "2070/2070 - 12s - loss: 2.1680 - accuracy: 0.3478 - val_loss: 2.2456 - val_accuracy: 0.3296 - 12s/epoch - 6ms/step\n",
            "Epoch 17/50\n",
            "2070/2070 - 13s - loss: 2.1558 - accuracy: 0.3526 - val_loss: 2.2386 - val_accuracy: 0.3340 - 13s/epoch - 6ms/step\n",
            "Epoch 18/50\n",
            "2070/2070 - 12s - loss: 2.1444 - accuracy: 0.3560 - val_loss: 2.2362 - val_accuracy: 0.3315 - 12s/epoch - 6ms/step\n",
            "Epoch 19/50\n",
            "2070/2070 - 12s - loss: 2.1343 - accuracy: 0.3590 - val_loss: 2.2269 - val_accuracy: 0.3357 - 12s/epoch - 6ms/step\n",
            "Epoch 20/50\n",
            "2070/2070 - 11s - loss: 2.1238 - accuracy: 0.3634 - val_loss: 2.2240 - val_accuracy: 0.3380 - 11s/epoch - 5ms/step\n",
            "Epoch 21/50\n",
            "2070/2070 - 12s - loss: 2.1135 - accuracy: 0.3658 - val_loss: 2.2191 - val_accuracy: 0.3377 - 12s/epoch - 6ms/step\n",
            "Epoch 22/50\n",
            "2070/2070 - 11s - loss: 2.1049 - accuracy: 0.3691 - val_loss: 2.2141 - val_accuracy: 0.3427 - 11s/epoch - 5ms/step\n",
            "Epoch 23/50\n",
            "2070/2070 - 12s - loss: 2.0959 - accuracy: 0.3722 - val_loss: 2.2169 - val_accuracy: 0.3438 - 12s/epoch - 6ms/step\n",
            "Epoch 24/50\n",
            "2070/2070 - 13s - loss: 2.0878 - accuracy: 0.3757 - val_loss: 2.2155 - val_accuracy: 0.3464 - 13s/epoch - 6ms/step\n",
            "Epoch 25/50\n",
            "2070/2070 - 11s - loss: 2.0794 - accuracy: 0.3785 - val_loss: 2.2085 - val_accuracy: 0.3497 - 11s/epoch - 6ms/step\n",
            "Epoch 26/50\n",
            "2070/2070 - 11s - loss: 2.0711 - accuracy: 0.3815 - val_loss: 2.2104 - val_accuracy: 0.3485 - 11s/epoch - 6ms/step\n",
            "Epoch 27/50\n",
            "2070/2070 - 12s - loss: 2.0637 - accuracy: 0.3823 - val_loss: 2.2079 - val_accuracy: 0.3492 - 12s/epoch - 6ms/step\n",
            "Epoch 28/50\n",
            "2070/2070 - 12s - loss: 2.0568 - accuracy: 0.3843 - val_loss: 2.2081 - val_accuracy: 0.3515 - 12s/epoch - 6ms/step\n",
            "Epoch 29/50\n",
            "2070/2070 - 12s - loss: 2.0497 - accuracy: 0.3871 - val_loss: 2.2064 - val_accuracy: 0.3515 - 12s/epoch - 6ms/step\n",
            "Epoch 30/50\n",
            "2070/2070 - 11s - loss: 2.0439 - accuracy: 0.3891 - val_loss: 2.2017 - val_accuracy: 0.3510 - 11s/epoch - 5ms/step\n",
            "Epoch 31/50\n",
            "2070/2070 - 12s - loss: 2.0369 - accuracy: 0.3905 - val_loss: 2.2035 - val_accuracy: 0.3518 - 12s/epoch - 6ms/step\n",
            "Epoch 32/50\n",
            "2070/2070 - 11s - loss: 2.0315 - accuracy: 0.3923 - val_loss: 2.1991 - val_accuracy: 0.3569 - 11s/epoch - 5ms/step\n",
            "Epoch 33/50\n",
            "2070/2070 - 13s - loss: 2.0258 - accuracy: 0.3941 - val_loss: 2.2033 - val_accuracy: 0.3531 - 13s/epoch - 6ms/step\n",
            "Epoch 34/50\n",
            "2070/2070 - 11s - loss: 2.0200 - accuracy: 0.3964 - val_loss: 2.2041 - val_accuracy: 0.3539 - 11s/epoch - 6ms/step\n",
            "Epoch 35/50\n",
            "2070/2070 - 12s - loss: 2.0148 - accuracy: 0.3981 - val_loss: 2.2031 - val_accuracy: 0.3567 - 12s/epoch - 6ms/step\n"
          ]
        }
      ],
      "source": [
        "h = model.fit(\n",
        "    x_train,y_train,\n",
        "    validation_data=(x_test,y_test),\n",
        "    epochs=50,verbose=2,\n",
        "    callbacks=[\n",
        "        tf.keras.callbacks.EarlyStopping(monitor='val_accuracy', patience=3)\n",
        "    ]\n",
        ")"
      ]
    },
    {
      "cell_type": "markdown",
      "metadata": {
        "id": "GfTpuFIX-ft7"
      },
      "source": [
        "## Task 8: Generate Names!"
      ]
    },
    {
      "cell_type": "code",
      "execution_count": null,
      "metadata": {
        "id": "9f50aTRcpt24"
      },
      "outputs": [],
      "source": [
        "def generate_names(seed):\n",
        "  for i in range(0,40):\n",
        "    seq=name_to_seq(seed)\n",
        "    padded = tf.keras.preprocessing.sequence.pad_sequences([seq], padding='pre',\n",
        "                                                           maxlen=max_len-1,\n",
        "                                                           truncating='pre')\n",
        "    pred = model.predict(padded)[0]\n",
        "    pred_char= index_to_char[tf.argmax(pred).numpy()]\n",
        "    seed += pred_char\n",
        "\n",
        "    if pred_char == '\\t':\n",
        "      break\n",
        "  print(seed)"
      ]
    },
    {
      "cell_type": "code",
      "execution_count": null,
      "metadata": {
        "id": "faQ0FInlpt26",
        "colab": {
          "base_uri": "https://localhost:8080/"
        },
        "outputId": "e91ba276-4b4a-4aac-dc22-3c9b8efdde34"
      },
      "outputs": [
        {
          "output_type": "stream",
          "name": "stdout",
          "text": [
            "1/1 [==============================] - 0s 381ms/step\n",
            "1/1 [==============================] - 0s 18ms/step\n",
            "1/1 [==============================] - 0s 17ms/step\n",
            "1/1 [==============================] - 0s 17ms/step\n",
            "1/1 [==============================] - 0s 18ms/step\n",
            "1/1 [==============================] - 0s 17ms/step\n",
            "kurseran\t\n"
          ]
        }
      ],
      "source": [
        "generate_names('kur')"
      ]
    }
  ],
  "metadata": {
    "accelerator": "GPU",
    "colab": {
      "provenance": [],
      "gpuType": "T4",
      "include_colab_link": true
    },
    "kernelspec": {
      "display_name": "Python 3",
      "name": "python3"
    },
    "language_info": {
      "codemirror_mode": {
        "name": "ipython",
        "version": 3
      },
      "file_extension": ".py",
      "mimetype": "text/x-python",
      "name": "python",
      "nbconvert_exporter": "python",
      "pygments_lexer": "ipython3",
      "version": "3.8.3"
    }
  },
  "nbformat": 4,
  "nbformat_minor": 0
}